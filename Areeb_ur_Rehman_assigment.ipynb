{
 "cells": [
  {
   "cell_type": "markdown",
   "metadata": {},
   "source": [
    "# Roll No : AIC002776           # Areeb Ur Rehman Assigment "
   ]
  },
  {
   "cell_type": "code",
   "execution_count": null,
   "metadata": {},
   "outputs": [],
   "source": []
  },
  {
   "cell_type": "markdown",
   "metadata": {},
   "source": [
    "# 1.  Calculate Area of Circle"
   ]
  },
  {
   "cell_type": "code",
   "execution_count": 1,
   "metadata": {},
   "outputs": [
    {
     "name": "stdout",
     "output_type": "stream",
     "text": [
      "Enter Radious of Circle: 34\n",
      "Area of Circle with radius 34.0 is 3633.142857142857\n"
     ]
    }
   ],
   "source": [
    "radious_of_circle = float(input(\"Enter Radious of Circle: \"))\n",
    "pi = 22/7\n",
    "area_of_circle = pi*radious_of_circle**2\n",
    "print(\"Area of Circle with radius \" + str(radious_of_circle) + \" is \" + str(area_of_circle))"
   ]
  },
  {
   "cell_type": "markdown",
   "metadata": {},
   "source": [
    "# 2. Check Number either positive, negative or zero"
   ]
  },
  {
   "cell_type": "code",
   "execution_count": 2,
   "metadata": {},
   "outputs": [
    {
     "name": "stdout",
     "output_type": "stream",
     "text": [
      "Enter Number: -0\n",
      "Zero Entered\n"
     ]
    }
   ],
   "source": [
    "no = int(input(\"Enter Number: \"))\n",
    "if no > 0:    \n",
    "    print(\"Positive Number Entered\")\n",
    "elif no<0:\n",
    "    print(\"Negative Number Entered\")\n",
    "else:\n",
    "    print(\"Zero Entered\")    "
   ]
  },
  {
   "cell_type": "markdown",
   "metadata": {},
   "source": [
    "# 3. Divisibility Check of two numbers"
   ]
  },
  {
   "cell_type": "code",
   "execution_count": 3,
   "metadata": {},
   "outputs": [
    {
     "name": "stdout",
     "output_type": "stream",
     "text": [
      "Enter numerator: 45\n",
      "Enter Denominator: 65\n",
      "Number 45 is not Completely divisible by 65\n"
     ]
    }
   ],
   "source": [
    "numerator = int(input(\"Enter numerator: \"))\n",
    "denominator = int(input(\"Enter Denominator: \"))\n",
    "result = numerator % denominator\n",
    "if result == 0 :\n",
    "    print(\"Number \" + str(numerator) + \" is Completely divisible by \" + str(denominator))\n",
    "else:\n",
    "    print(\"Number \" + str(numerator) + \" is not Completely divisible by \" + str(denominator))"
   ]
  },
  {
   "cell_type": "markdown",
   "metadata": {},
   "source": [
    "# 4. Calculate Volume of a sphere"
   ]
  },
  {
   "cell_type": "code",
   "execution_count": 4,
   "metadata": {},
   "outputs": [
    {
     "name": "stdout",
     "output_type": "stream",
     "text": [
      "Enter Radious of Sphere: 65\n",
      "Volume of the Sphere with Radius 65 is 1150809.52\n"
     ]
    }
   ],
   "source": [
    "radius_of_sphere = int(input(\"Enter Radious of Sphere: \"))\n",
    "pi = 22/7 #constant value\n",
    "volume_of_sphere = round(4/3 * pi * radius_of_sphere ** 3,2) #formula of volume of sphere\n",
    "print(f\"Volume of the Sphere with Radius {radius_of_sphere} is {volume_of_sphere}\")"
   ]
  },
  {
   "cell_type": "markdown",
   "metadata": {},
   "source": [
    "# 5. Copy string n times"
   ]
  },
  {
   "cell_type": "code",
   "execution_count": null,
   "metadata": {},
   "outputs": [],
   "source": [
    "string = input(\"Enter String: \")\n",
    "required_string_copies = int(input(\"How many copies of String you need: \"))\n",
    "print(str(required_string_copies) + \" Copies of \" + string + \" are \" + str( required_string_copies * string))"
   ]
  },
  {
   "cell_type": "markdown",
   "metadata": {},
   "source": [
    "# 6. Check if number is Even or Odd"
   ]
  },
  {
   "cell_type": "code",
   "execution_count": 1,
   "metadata": {},
   "outputs": [
    {
     "name": "stdout",
     "output_type": "stream",
     "text": [
      "Enter Number: 34\n",
      "34 is Even\n"
     ]
    }
   ],
   "source": [
    "no = int(input(\"Enter Number: \"))\n",
    "remainder = no % 2\n",
    "if remainder == 0 :\n",
    "    print(str(no) + \" is Even\")\n",
    "else :\n",
    "    print(str(no) + \" is Odd\")"
   ]
  },
  {
   "cell_type": "markdown",
   "metadata": {},
   "source": [
    "# 7. Vowel Tester"
   ]
  },
  {
   "cell_type": "code",
   "execution_count": 2,
   "metadata": {},
   "outputs": [
    {
     "name": "stdout",
     "output_type": "stream",
     "text": [
      "Enter a character: i\n",
      "Letter i is Vowel\n"
     ]
    }
   ],
   "source": [
    "character = input(\"Enter a character: \")\n",
    "if character.upper() in ('A','E','I','O','U'): #list of Vowels\n",
    "    print(\"Letter \" + character + \" is Vowel\")\n",
    "else:\n",
    "    print(\"Letter \" + character + \" is not Vowel\")"
   ]
  },
  {
   "cell_type": "markdown",
   "metadata": {},
   "source": [
    "# 8. Triangle area"
   ]
  },
  {
   "cell_type": "code",
   "execution_count": 3,
   "metadata": {},
   "outputs": [
    {
     "name": "stdout",
     "output_type": "stream",
     "text": [
      "Enter Base of Triangle: 45\n",
      "Enter Height of Triangle: 45\n",
      "Area of Triangle is 1012.5\n"
     ]
    }
   ],
   "source": [
    "base_of_triangle = float(input(\"Enter Base of Triangle: \"))\n",
    "height_of_triangle = float(input(\"Enter Height of Triangle: \"))\n",
    "area_of_triangle = ( base_of_triangle * height_of_triangle )/2\n",
    "print (f\"Area of Triangle is {area_of_triangle}\")"
   ]
  },
  {
   "cell_type": "markdown",
   "metadata": {},
   "source": [
    "# 9. Calculate Interest"
   ]
  },
  {
   "cell_type": "code",
   "execution_count": 4,
   "metadata": {},
   "outputs": [
    {
     "name": "stdout",
     "output_type": "stream",
     "text": [
      "Please enter principal amount: 3400\n",
      "Please Enter Rate of interest in %: 5\n",
      "Enter number of years for investment: 9\n",
      "After 9 years your principal amount 3400 over an interest rate of 5.0% will be 34264166400.0\n"
     ]
    }
   ],
   "source": [
    "principal_amount = int(input(\"Please enter principal amount: \"))\n",
    "rate_of_interest = float(input(\"Please Enter Rate of interest in %: \"))\n",
    "no_of_year_investment = int(input(\"Enter number of years for investment: \"))\n",
    "future_value = round(principal_amount * (1 + (rate_of_interest)) ** no_of_year_investment,1)\n",
    "print(f\"After {no_of_year_investment} years your principal amount {principal_amount} over an interest rate of {rate_of_interest}% will be {future_value}\")                               "
   ]
  },
  {
   "cell_type": "markdown",
   "metadata": {},
   "source": [
    "# 10. Euclidean distance"
   ]
  },
  {
   "cell_type": "code",
   "execution_count": null,
   "metadata": {},
   "outputs": [],
   "source": [
    "x1 = int(input(\"Enter Co-ordinate for x1: \"))\n",
    "x2 = int(input(\"Enter Co-ordinate for x2: \"))\n",
    "y1 = int(input(\"Enter Co-ordinate for y1: \"))\n",
    "y2 = int(input(\"Enter Co-ordinate for y2: \"))\n",
    "distance_btween_two_points = ((x2 - x1)**2 + (y2 - y1)**2) ** 1/2\n",
    "print(f\"Distance between points {x1,x2} and {y1,y2} is {distance_btween_two_points}\")"
   ]
  },
  {
   "cell_type": "markdown",
   "metadata": {},
   "source": [
    "# 11. Feet to Centimeter Converter"
   ]
  },
  {
   "cell_type": "code",
   "execution_count": 5,
   "metadata": {},
   "outputs": [
    {
     "name": "stdout",
     "output_type": "stream",
     "text": [
      "Enter Height in Feet: 5ft\n"
     ]
    },
    {
     "ename": "ValueError",
     "evalue": "invalid literal for int() with base 10: '5ft'",
     "output_type": "error",
     "traceback": [
      "\u001b[1;31m---------------------------------------------------------------------------\u001b[0m",
      "\u001b[1;31mValueError\u001b[0m                                Traceback (most recent call last)",
      "\u001b[1;32m<ipython-input-5-967d3392eeaa>\u001b[0m in \u001b[0;36m<module>\u001b[1;34m\u001b[0m\n\u001b[1;32m----> 1\u001b[1;33m \u001b[0mheight_in_feet\u001b[0m \u001b[1;33m=\u001b[0m \u001b[0mint\u001b[0m\u001b[1;33m(\u001b[0m\u001b[0minput\u001b[0m\u001b[1;33m(\u001b[0m\u001b[1;34m\"Enter Height in Feet: \"\u001b[0m\u001b[1;33m)\u001b[0m\u001b[1;33m)\u001b[0m\u001b[1;33m\u001b[0m\u001b[1;33m\u001b[0m\u001b[0m\n\u001b[0m\u001b[0;32m      2\u001b[0m \u001b[0mheight_in_cm\u001b[0m   \u001b[1;33m=\u001b[0m \u001b[0mheight_in_feet\u001b[0m \u001b[1;33m*\u001b[0m \u001b[1;36m30.48\u001b[0m\u001b[1;33m\u001b[0m\u001b[1;33m\u001b[0m\u001b[0m\n\u001b[0;32m      3\u001b[0m \u001b[0mprint\u001b[0m\u001b[1;33m(\u001b[0m\u001b[1;34mf\"There are {height_in_cm}Cm in {height_in_feet}ft\"\u001b[0m\u001b[1;33m)\u001b[0m\u001b[1;33m\u001b[0m\u001b[1;33m\u001b[0m\u001b[0m\n",
      "\u001b[1;31mValueError\u001b[0m: invalid literal for int() with base 10: '5ft'"
     ]
    }
   ],
   "source": [
    "height_in_feet = int(input(\"Enter Height in Feet: \"))\n",
    "height_in_cm   = height_in_feet * 30.48\n",
    "print(f\"There are {height_in_cm}Cm in {height_in_feet}ft\")"
   ]
  },
  {
   "cell_type": "markdown",
   "metadata": {},
   "source": [
    "# 12. BMI Calculator"
   ]
  },
  {
   "cell_type": "code",
   "execution_count": null,
   "metadata": {},
   "outputs": [],
   "source": [
    "height_in_cm = int(input(\"Enter Height in cm: \"))\n",
    "weight_in_kg = int(input(\"Enter Weight in kg: \"))\n",
    "height_in_meter = height_in_cm/100\n",
    "bmi = round(weight_in_kg/height_in_meter**2,2)\n",
    "print(f\"Your BMI is {bmi}\")"
   ]
  },
  {
   "cell_type": "markdown",
   "metadata": {},
   "source": [
    "# 13. Sum of n Positive Integers"
   ]
  },
  {
   "cell_type": "code",
   "execution_count": null,
   "metadata": {},
   "outputs": [],
   "source": [
    "n = int(input(\"Enter value of n: \"))\n",
    "sum_of_n_integers = n * (n+1)/2\n",
    "print(f\"Sum of n positive integers till {n} is {sum_of_n_integers}\")"
   ]
  },
  {
   "cell_type": "markdown",
   "metadata": {},
   "source": [
    "# 14. Digits Sum of a Number"
   ]
  },
  {
   "cell_type": "code",
   "execution_count": null,
   "metadata": {},
   "outputs": [],
   "source": [
    "no = int(input(\"Enter a number: \"))\n",
    "start_flag = 1\n",
    "sum_of_digits = 0\n",
    "while(no > 10):\n",
    "    remainder = no % 10\n",
    "    no = no // 10       \n",
    "    if start_flag == 1:\n",
    "        digits = str(remainder)\n",
    "        start_flag = 0\n",
    "    else:\n",
    "        #digits = digits + ' + ' + str(remainder)\n",
    "        digits = digits + str(remainder)\n",
    "    sum_of_digits = sum_of_digits + remainder\n",
    "    \n",
    "sum_of_digits = sum_of_digits + no   \n",
    "digits = digits + str(no)\n",
    "\n",
    "#print( f\"Sum of {digits} is {sum_of_digits}\")\n",
    "\n",
    "no = int(digits)\n",
    "start_flag = 1\n",
    "while (no > 10):\n",
    "    remainder = no % 10\n",
    "    no = no // 10       \n",
    "    if start_flag == 1:\n",
    "        digits = str(remainder)\n",
    "        start_flag = 0\n",
    "    else:\n",
    "        digits = digits + ' + ' + str(remainder)\n",
    "        #digits = digits + str(remainder)\n",
    "digits = digits + ' + ' + str(no)        \n",
    "print( f\"Sum of {digits} is {sum_of_digits}\") \n",
    "    "
   ]
  }
 ],
 "metadata": {
  "kernelspec": {
   "display_name": "Python 3",
   "language": "python",
   "name": "python3"
  },
  "language_info": {
   "codemirror_mode": {
    "name": "ipython",
    "version": 3
   },
   "file_extension": ".py",
   "mimetype": "text/x-python",
   "name": "python",
   "nbconvert_exporter": "python",
   "pygments_lexer": "ipython3",
   "version": "3.7.3"
  }
 },
 "nbformat": 4,
 "nbformat_minor": 2
}
